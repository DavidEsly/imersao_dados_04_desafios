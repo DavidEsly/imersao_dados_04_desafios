{
  "nbformat": 4,
  "nbformat_minor": 0,
  "metadata": {
    "colab": {
      "name": "Imersao_dados_4_base_sao_paulo",
      "provenance": [],
      "authorship_tag": "ABX9TyPuNW2ZwbFfGkPkzdqwvQU0",
      "include_colab_link": true
    },
    "kernelspec": {
      "name": "python3",
      "display_name": "Python 3"
    },
    "language_info": {
      "name": "python"
    }
  },
  "cells": [
    {
      "cell_type": "markdown",
      "metadata": {
        "id": "view-in-github",
        "colab_type": "text"
      },
      "source": [
        "<a href=\"https://colab.research.google.com/github/DavidEsly/imersao_dados_04_desafios/blob/main/Imersao_dados_4_base_sao_paulo.ipynb\" target=\"_parent\"><img src=\"https://colab.research.google.com/assets/colab-badge.svg\" alt=\"Open In Colab\"/></a>"
      ]
    },
    {
      "cell_type": "markdown",
      "source": [
        "1 - Realizar a média da metragem para cada um dos bairros. (Proposto pelo Paulo)"
      ],
      "metadata": {
        "id": "LF2Ahqaf6SKR"
      }
    },
    {
      "cell_type": "code",
      "execution_count": null,
      "metadata": {
        "id": "uA1UitHW0EjG"
      },
      "outputs": [],
      "source": [
        "import pandas as pd\n",
        "\n",
        "caminho = \"https://gist.githubusercontent.com/tgcsantos/3bdb29eba6ce391e90df2b72205ba891/raw/22fa920e80c9fa209a9fccc8b52d74cc95d1599b/dados_imoveis.csv\"\n",
        "dados = pd.read_csv(caminho)\n",
        "\n",
        "lista_bairros = list()\n",
        "\n",
        "for b in dados['Bairro'].values:\n",
        "  if b not in lista_bairros:\n",
        "    lista_bairros.append(b)\n",
        "\n",
        "for bar in lista_bairros:\n",
        "  tot_p_bairro = dados['Bairro'] == bar\n",
        "  tot_bairro = dados[tot_p_bairro]\n",
        "  print(\"O bairro {} tem uma média de {} m²\".format(bar, tot_bairro['Metragem'].mean()))"
      ]
    },
    {
      "cell_type": "markdown",
      "source": [
        "2 - Duas formas de selecionar os dados por bairro (consultar os métodos na documentação do Pandas). (Proposto pelo Thiago)"
      ],
      "metadata": {
        "id": "2A-dCDZQ_CJu"
      }
    },
    {
      "cell_type": "code",
      "source": [
        ""
      ],
      "metadata": {
        "id": "z1CqAQdg_FWO"
      },
      "execution_count": null,
      "outputs": []
    }
  ]
}